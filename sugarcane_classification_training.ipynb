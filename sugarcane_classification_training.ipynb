{
 "cells": [
  {
   "cell_type": "code",
   "execution_count": 2,
   "id": "455f5cea-430d-4f85-8f57-6914a6ffb545",
   "metadata": {},
   "outputs": [],
   "source": [
    "import splitfolders\n",
    "\n",
    "input_path = r\"Sugarcane Leaf Disease Dataset\"\n",
    "output_path = r\"sugarcane dataset version 2\"\n",
    "splitfolders.ratio(input_path, output=output_path, seed=1337, ratio=(.8, .1, .1))"
   ]
  },
  {
   "cell_type": "code",
   "execution_count": 1,
   "id": "2625af19-0348-4af1-8d73-2ec18aa20c06",
   "metadata": {},
   "outputs": [
    {
     "name": "stdout",
     "output_type": "stream",
     "text": [
      "Found 1472 images belonging to 5 classes.\n",
      "Found 189 images belonging to 5 classes.\n",
      "Found 189 images belonging to 5 classes.\n"
     ]
    }
   ],
   "source": [
    "from tensorflow.keras.preprocessing.image import ImageDataGenerator\n",
    "\n",
    "\n",
    "train_data_dir=r\"sugarcane dataset version 2\\train\"\n",
    "val_data_dir=r\"sugarcane dataset version 2\\test\"\n",
    "test_data_dir=r\"sugarcane dataset version 2\\test\"\n",
    "\n",
    "img_width,img_height=224,224\n",
    "batch_size=32\n",
    "\n",
    "train_datagen=ImageDataGenerator(#rescale=1./255,\n",
    "                                 rotation_range=45,\n",
    "                                 width_shift_range=0.3,\n",
    "                                 height_shift_range=0.3,\n",
    "                                 horizontal_flip=True,\n",
    "                                 fill_mode='nearest')\n",
    "\n",
    "val_datagen=ImageDataGenerator()#rescale=1./255)\n",
    "\n",
    "test_datagen=ImageDataGenerator()#rescale=1./255)\n",
    "\n",
    "train_generator=train_datagen.flow_from_directory(train_data_dir,\n",
    "                                                  target_size=(img_height,img_width),\n",
    "                                                  batch_size=batch_size,\n",
    "                                                  class_mode='categorical')\n",
    "\n",
    "val_generator=val_datagen.flow_from_directory(val_data_dir,\n",
    "                                              target_size=(img_height,img_width),\n",
    "                                              batch_size=batch_size,\n",
    "                                              class_mode='categorical')\n",
    "\n",
    "test_generator=test_datagen.flow_from_directory(test_data_dir,\n",
    "                                              target_size=(img_height,img_width),\n",
    "                                              batch_size=batch_size,\n",
    "                                              class_mode='categorical')"
   ]
  },
  {
   "cell_type": "code",
   "execution_count": 2,
   "id": "d6ca30f9-7f50-46c7-99f5-821699d5d613",
   "metadata": {},
   "outputs": [
    {
     "data": {
      "text/plain": [
       "{'Healthy': 0, 'Mosaic': 1, 'RedRot': 2, 'Rust': 3, 'Wolly Aphid': 4}"
      ]
     },
     "execution_count": 2,
     "metadata": {},
     "output_type": "execute_result"
    }
   ],
   "source": [
    "train_generator.class_indices"
   ]
  },
  {
   "cell_type": "code",
   "execution_count": 5,
   "id": "8b421e7d-4d3a-49cd-b470-ade7fbb7c141",
   "metadata": {},
   "outputs": [
    {
     "name": "stdout",
     "output_type": "stream",
     "text": [
      "1648\n",
      "212\n",
      "212\n",
      "6\n"
     ]
    }
   ],
   "source": [
    "train_class_names = set()\n",
    "num_train_samples=0\n",
    "for i in train_generator.filenames:\n",
    "    train_class_names.add(i.split('\\\\')[0])\n",
    "    num_train_samples+=1\n",
    "print(num_train_samples)\n",
    "train_class_names\n",
    "\n",
    "val_class_names = set()\n",
    "num_val_samples=0\n",
    "for i in val_generator.filenames:\n",
    "    val_class_names.add(i.split('\\\\')[0])\n",
    "    num_val_samples+=1\n",
    "print(num_val_samples)\n",
    "val_class_names\n",
    "\n",
    "test_class_names = set()\n",
    "num_test_samples=0\n",
    "for i in test_generator.filenames:\n",
    "    test_class_names.add(i.split('\\\\')[0])\n",
    "    num_test_samples+=1\n",
    "print(num_test_samples)\n",
    "test_class_names\n",
    "\n",
    "num_classes = len(train_class_names)\n",
    "print(num_classes)"
   ]
  },
  {
   "cell_type": "code",
   "execution_count": 15,
   "id": "1d91d522-b76f-4d9e-be90-a7595d7b6da6",
   "metadata": {},
   "outputs": [
    {
     "data": {
      "text/plain": [
       "{'Early Shoot Borer', 'Healthy', 'Mosaic', 'RedRot', 'Rust', 'Wolly Aphid'}"
      ]
     },
     "execution_count": 15,
     "metadata": {},
     "output_type": "execute_result"
    }
   ],
   "source": [
    "train_class_names"
   ]
  },
  {
   "cell_type": "code",
   "execution_count": 6,
   "id": "6f8d4cb3-8bf0-4f28-8912-06cf9eac155f",
   "metadata": {},
   "outputs": [],
   "source": [
    "from tensorflow.keras.applications import MobileNetV3Small\n",
    "from tensorflow.keras.models import Model\n",
    "from keras.layers import GlobalAveragePooling2D,Conv2D, Flatten, BatchNormalization, Dense, Dropout\n",
    "from tensorflow.keras.layers import MaxPooling2D, GlobalAveragePooling2D, GlobalMaxPool2D\n",
    "base_model = MobileNetV3Small(\n",
    "                    input_shape=(224, 224, 3),\n",
    "                    weights='imagenet',\n",
    "                    include_preprocessing=True,\n",
    "                    include_top=False)\n",
    "# Freeze the first 10 layers\n",
    "for layer in base_model.layers[:10]:\n",
    "    layer.trainable = False\n",
    "x = base_model.output\n",
    "# x = Conv2D(128,(3,3),activation='relu')(x)\n",
    "x = Conv2D(16,3, padding = 'same' ,activation='relu')(x)\n",
    "x = Conv2D(32,3, padding = 'same' ,activation='relu')(x)\n",
    "x = Conv2D(64,3, padding = 'same' ,activation='relu')(x)\n",
    "x = Conv2D(128,3, padding = 'same' ,activation='relu')(x)\n",
    "x = Conv2D(256,3, padding = 'same' ,activation='relu')(x)\n",
    "x = Conv2D(512,3, padding = 'same' ,activation='relu')(x)\n",
    "x = GlobalMaxPool2D()(x)\n",
    "x = Dense(512, activation='relu')(x)\n",
    "x = Dropout(0.4)(x)\n",
    "predictions = Dense(num_classes, activation='softmax')(x)\n",
    "model1 = Model(inputs=base_model.inputs, outputs=predictions)"
   ]
  },
  {
   "cell_type": "code",
   "execution_count": 7,
   "id": "dbbe4ef7-3452-4b37-9f29-7972403af2a1",
   "metadata": {},
   "outputs": [
    {
     "name": "stdout",
     "output_type": "stream",
     "text": [
      "Epoch 1/50\n",
      "51/51 [==============================] - ETA: 0s - loss: 1.5408 - accuracy: 0.3484 - auc: 0.7302\n",
      "Epoch 1: val_loss improved from inf to 1.31825, saving model to sugarcane_MobileNetLarge.h5\n",
      "51/51 [==============================] - 30s 385ms/step - loss: 1.5408 - accuracy: 0.3484 - auc: 0.7302 - val_loss: 1.3182 - val_accuracy: 0.5052 - val_auc: 0.8364\n",
      "Epoch 2/50\n",
      "51/51 [==============================] - ETA: 0s - loss: 0.9195 - accuracy: 0.6547 - auc: 0.9145\n",
      "Epoch 2: val_loss improved from 1.31825 to 0.94215, saving model to sugarcane_MobileNetLarge.h5\n",
      "51/51 [==============================] - 13s 258ms/step - loss: 0.9195 - accuracy: 0.6547 - auc: 0.9145 - val_loss: 0.9421 - val_accuracy: 0.6406 - val_auc: 0.9102\n",
      "Epoch 3/50\n",
      "51/51 [==============================] - ETA: 0s - loss: 0.6535 - accuracy: 0.7512 - auc: 0.9568\n",
      "Epoch 3: val_loss improved from 0.94215 to 0.69091, saving model to sugarcane_MobileNetLarge.h5\n",
      "51/51 [==============================] - 13s 260ms/step - loss: 0.6535 - accuracy: 0.7512 - auc: 0.9568 - val_loss: 0.6909 - val_accuracy: 0.7448 - val_auc: 0.9529\n",
      "Epoch 4/50\n",
      "51/51 [==============================] - ETA: 0s - loss: 0.4931 - accuracy: 0.8298 - auc: 0.9738\n",
      "Epoch 4: val_loss did not improve from 0.69091\n",
      "51/51 [==============================] - 13s 254ms/step - loss: 0.4931 - accuracy: 0.8298 - auc: 0.9738 - val_loss: 0.7372 - val_accuracy: 0.7812 - val_auc: 0.9444\n",
      "Epoch 5/50\n",
      "51/51 [==============================] - ETA: 0s - loss: 0.3846 - accuracy: 0.8608 - auc: 0.9841\n",
      "Epoch 5: val_loss improved from 0.69091 to 0.61881, saving model to sugarcane_MobileNetLarge.h5\n",
      "51/51 [==============================] - 13s 258ms/step - loss: 0.3846 - accuracy: 0.8608 - auc: 0.9841 - val_loss: 0.6188 - val_accuracy: 0.7708 - val_auc: 0.9631\n",
      "Epoch 6/50\n",
      "51/51 [==============================] - ETA: 0s - loss: 0.3164 - accuracy: 0.8880 - auc: 0.9886\n",
      "Epoch 6: val_loss did not improve from 0.61881\n",
      "51/51 [==============================] - 13s 254ms/step - loss: 0.3164 - accuracy: 0.8880 - auc: 0.9886 - val_loss: 0.9897 - val_accuracy: 0.7031 - val_auc: 0.9204\n",
      "Epoch 7/50\n",
      "51/51 [==============================] - ETA: 0s - loss: 0.3088 - accuracy: 0.8923 - auc: 0.9886\n",
      "Epoch 7: val_loss did not improve from 0.61881\n",
      "51/51 [==============================] - 13s 254ms/step - loss: 0.3088 - accuracy: 0.8923 - auc: 0.9886 - val_loss: 0.6757 - val_accuracy: 0.7656 - val_auc: 0.9567\n",
      "Epoch 8/50\n",
      "51/51 [==============================] - ETA: 0s - loss: 0.2351 - accuracy: 0.9171 - auc: 0.9933\n",
      "Epoch 8: val_loss improved from 0.61881 to 0.57188, saving model to sugarcane_MobileNetLarge.h5\n",
      "51/51 [==============================] - 13s 258ms/step - loss: 0.2351 - accuracy: 0.9171 - auc: 0.9933 - val_loss: 0.5719 - val_accuracy: 0.8125 - val_auc: 0.9727\n",
      "Epoch 9/50\n",
      "51/51 [==============================] - ETA: 0s - loss: 0.1927 - accuracy: 0.9387 - auc: 0.9946\n",
      "Epoch 9: val_loss improved from 0.57188 to 0.29654, saving model to sugarcane_MobileNetLarge.h5\n",
      "51/51 [==============================] - 13s 255ms/step - loss: 0.1927 - accuracy: 0.9387 - auc: 0.9946 - val_loss: 0.2965 - val_accuracy: 0.8854 - val_auc: 0.9891\n",
      "Epoch 10/50\n",
      "51/51 [==============================] - ETA: 0s - loss: 0.1523 - accuracy: 0.9493 - auc: 0.9967\n",
      "Epoch 10: val_loss did not improve from 0.29654\n",
      "51/51 [==============================] - 13s 256ms/step - loss: 0.1523 - accuracy: 0.9493 - auc: 0.9967 - val_loss: 0.4136 - val_accuracy: 0.8542 - val_auc: 0.9844\n",
      "Epoch 11/50\n",
      "51/51 [==============================] - ETA: 0s - loss: 0.1599 - accuracy: 0.9554 - auc: 0.9943\n",
      "Epoch 11: val_loss improved from 0.29654 to 0.23492, saving model to sugarcane_MobileNetLarge.h5\n",
      "51/51 [==============================] - 13s 257ms/step - loss: 0.1599 - accuracy: 0.9554 - auc: 0.9943 - val_loss: 0.2349 - val_accuracy: 0.9167 - val_auc: 0.9941\n",
      "Epoch 12/50\n",
      "51/51 [==============================] - ETA: 0s - loss: 0.1069 - accuracy: 0.9629 - auc: 0.9987\n",
      "Epoch 12: val_loss did not improve from 0.23492\n",
      "51/51 [==============================] - 13s 253ms/step - loss: 0.1069 - accuracy: 0.9629 - auc: 0.9987 - val_loss: 1.0943 - val_accuracy: 0.7448 - val_auc: 0.9339\n",
      "Epoch 13/50\n",
      "51/51 [==============================] - ETA: 0s - loss: 0.1348 - accuracy: 0.9585 - auc: 0.9971\n",
      "Epoch 13: val_loss did not improve from 0.23492\n",
      "51/51 [==============================] - 13s 254ms/step - loss: 0.1348 - accuracy: 0.9585 - auc: 0.9971 - val_loss: 0.2837 - val_accuracy: 0.9115 - val_auc: 0.9901\n",
      "Epoch 14/50\n",
      "51/51 [==============================] - ETA: 0s - loss: 0.1179 - accuracy: 0.9579 - auc: 0.9985\n",
      "Epoch 14: val_loss did not improve from 0.23492\n",
      "51/51 [==============================] - 13s 255ms/step - loss: 0.1179 - accuracy: 0.9579 - auc: 0.9985 - val_loss: 0.2564 - val_accuracy: 0.9323 - val_auc: 0.9861\n",
      "Epoch 15/50\n",
      "51/51 [==============================] - ETA: 0s - loss: 0.0751 - accuracy: 0.9777 - auc: 0.9984\n",
      "Epoch 15: val_loss did not improve from 0.23492\n",
      "51/51 [==============================] - 13s 256ms/step - loss: 0.0751 - accuracy: 0.9777 - auc: 0.9984 - val_loss: 0.3317 - val_accuracy: 0.9271 - val_auc: 0.9844\n",
      "Epoch 16/50\n",
      "51/51 [==============================] - ETA: 0s - loss: 0.1125 - accuracy: 0.9684 - auc: 0.9959\n",
      "Epoch 16: val_loss improved from 0.23492 to 0.16810, saving model to sugarcane_MobileNetLarge.h5\n",
      "51/51 [==============================] - 13s 260ms/step - loss: 0.1125 - accuracy: 0.9684 - auc: 0.9959 - val_loss: 0.1681 - val_accuracy: 0.9479 - val_auc: 0.9971\n",
      "Epoch 17/50\n",
      "51/51 [==============================] - ETA: 0s - loss: 0.0697 - accuracy: 0.9796 - auc: 0.9988\n",
      "Epoch 17: val_loss did not improve from 0.16810\n",
      "51/51 [==============================] - 13s 254ms/step - loss: 0.0697 - accuracy: 0.9796 - auc: 0.9988 - val_loss: 0.2235 - val_accuracy: 0.9479 - val_auc: 0.9883\n",
      "Epoch 18/50\n",
      "51/51 [==============================] - ETA: 0s - loss: 0.0609 - accuracy: 0.9845 - auc: 0.9990\n",
      "Epoch 18: val_loss did not improve from 0.16810\n",
      "51/51 [==============================] - 13s 255ms/step - loss: 0.0609 - accuracy: 0.9845 - auc: 0.9990 - val_loss: 0.1722 - val_accuracy: 0.9479 - val_auc: 0.9896\n",
      "Epoch 19/50\n",
      "51/51 [==============================] - ETA: 0s - loss: 0.0646 - accuracy: 0.9833 - auc: 0.9985\n",
      "Epoch 19: val_loss did not improve from 0.16810\n",
      "51/51 [==============================] - 13s 254ms/step - loss: 0.0646 - accuracy: 0.9833 - auc: 0.9985 - val_loss: 0.1799 - val_accuracy: 0.9688 - val_auc: 0.9896\n",
      "Epoch 20/50\n",
      "51/51 [==============================] - ETA: 0s - loss: 0.0597 - accuracy: 0.9821 - auc: 0.9979\n",
      "Epoch 20: val_loss improved from 0.16810 to 0.11581, saving model to sugarcane_MobileNetLarge.h5\n",
      "51/51 [==============================] - 14s 266ms/step - loss: 0.0597 - accuracy: 0.9821 - auc: 0.9979 - val_loss: 0.1158 - val_accuracy: 0.9583 - val_auc: 0.9931\n",
      "Epoch 21/50\n",
      "51/51 [==============================] - ETA: 0s - loss: 0.0851 - accuracy: 0.9777 - auc: 0.9973\n",
      "Epoch 21: val_loss did not improve from 0.11581\n",
      "51/51 [==============================] - 13s 259ms/step - loss: 0.0851 - accuracy: 0.9777 - auc: 0.9973 - val_loss: 0.1451 - val_accuracy: 0.9479 - val_auc: 0.9957\n",
      "Epoch 22/50\n",
      "51/51 [==============================] - ETA: 0s - loss: 0.0589 - accuracy: 0.9821 - auc: 0.9986\n",
      "Epoch 22: val_loss improved from 0.11581 to 0.08125, saving model to sugarcane_MobileNetLarge.h5\n",
      "51/51 [==============================] - 14s 264ms/step - loss: 0.0589 - accuracy: 0.9821 - auc: 0.9986 - val_loss: 0.0812 - val_accuracy: 0.9688 - val_auc: 0.9964\n",
      "Epoch 23/50\n",
      "51/51 [==============================] - ETA: 0s - loss: 0.0654 - accuracy: 0.9827 - auc: 0.9975\n",
      "Epoch 23: val_loss did not improve from 0.08125\n",
      "51/51 [==============================] - 13s 261ms/step - loss: 0.0654 - accuracy: 0.9827 - auc: 0.9975 - val_loss: 0.1447 - val_accuracy: 0.9479 - val_auc: 0.9954\n",
      "Epoch 24/50\n",
      "51/51 [==============================] - ETA: 0s - loss: 0.0381 - accuracy: 0.9907 - auc: 0.9991\n",
      "Epoch 24: val_loss did not improve from 0.08125\n",
      "51/51 [==============================] - 13s 256ms/step - loss: 0.0381 - accuracy: 0.9907 - auc: 0.9991 - val_loss: 0.1044 - val_accuracy: 0.9792 - val_auc: 0.9963\n",
      "Epoch 25/50\n",
      "51/51 [==============================] - ETA: 0s - loss: 0.0727 - accuracy: 0.9808 - auc: 0.9968\n",
      "Epoch 25: val_loss did not improve from 0.08125\n",
      "51/51 [==============================] - 13s 254ms/step - loss: 0.0727 - accuracy: 0.9808 - auc: 0.9968 - val_loss: 0.1424 - val_accuracy: 0.9688 - val_auc: 0.9899\n",
      "Epoch 26/50\n",
      "51/51 [==============================] - ETA: 0s - loss: 0.0535 - accuracy: 0.9814 - auc: 0.9991\n",
      "Epoch 26: val_loss did not improve from 0.08125\n",
      "51/51 [==============================] - 13s 254ms/step - loss: 0.0535 - accuracy: 0.9814 - auc: 0.9991 - val_loss: 0.1227 - val_accuracy: 0.9688 - val_auc: 0.9963\n",
      "Epoch 27/50\n",
      "51/51 [==============================] - ETA: 0s - loss: 0.0661 - accuracy: 0.9796 - auc: 0.9982\n",
      "Epoch 27: val_loss improved from 0.08125 to 0.07598, saving model to sugarcane_MobileNetLarge.h5\n",
      "51/51 [==============================] - 13s 260ms/step - loss: 0.0661 - accuracy: 0.9796 - auc: 0.9982 - val_loss: 0.0760 - val_accuracy: 0.9688 - val_auc: 0.9995\n",
      "Epoch 28/50\n",
      "51/51 [==============================] - ETA: 0s - loss: 0.0575 - accuracy: 0.9858 - auc: 0.9979\n",
      "Epoch 28: val_loss did not improve from 0.07598\n",
      "51/51 [==============================] - 13s 253ms/step - loss: 0.0575 - accuracy: 0.9858 - auc: 0.9979 - val_loss: 0.1024 - val_accuracy: 0.9635 - val_auc: 0.9963\n",
      "Epoch 29/50\n",
      "51/51 [==============================] - ETA: 0s - loss: 0.0355 - accuracy: 0.9907 - auc: 0.9995\n",
      "Epoch 29: val_loss improved from 0.07598 to 0.07047, saving model to sugarcane_MobileNetLarge.h5\n",
      "51/51 [==============================] - 13s 261ms/step - loss: 0.0355 - accuracy: 0.9907 - auc: 0.9995 - val_loss: 0.0705 - val_accuracy: 0.9792 - val_auc: 0.9997\n",
      "Epoch 30/50\n",
      "51/51 [==============================] - ETA: 0s - loss: 0.0396 - accuracy: 0.9864 - auc: 0.9995\n",
      "Epoch 30: val_loss did not improve from 0.07047\n",
      "51/51 [==============================] - 13s 253ms/step - loss: 0.0396 - accuracy: 0.9864 - auc: 0.9995 - val_loss: 0.1409 - val_accuracy: 0.9479 - val_auc: 0.9960\n",
      "Epoch 31/50\n",
      "51/51 [==============================] - ETA: 0s - loss: 0.0384 - accuracy: 0.9889 - auc: 0.9988\n",
      "Epoch 31: val_loss improved from 0.07047 to 0.06360, saving model to sugarcane_MobileNetLarge.h5\n",
      "51/51 [==============================] - 13s 261ms/step - loss: 0.0384 - accuracy: 0.9889 - auc: 0.9988 - val_loss: 0.0636 - val_accuracy: 0.9740 - val_auc: 0.9967\n",
      "Epoch 32/50\n",
      "51/51 [==============================] - ETA: 0s - loss: 0.0368 - accuracy: 0.9889 - auc: 0.9989\n",
      "Epoch 32: val_loss did not improve from 0.06360\n",
      "51/51 [==============================] - 13s 253ms/step - loss: 0.0368 - accuracy: 0.9889 - auc: 0.9989 - val_loss: 0.1267 - val_accuracy: 0.9792 - val_auc: 0.9904\n",
      "Epoch 33/50\n",
      "51/51 [==============================] - ETA: 0s - loss: 0.0253 - accuracy: 0.9938 - auc: 0.9993\n",
      "Epoch 33: val_loss did not improve from 0.06360\n",
      "51/51 [==============================] - 13s 254ms/step - loss: 0.0253 - accuracy: 0.9938 - auc: 0.9993 - val_loss: 0.2251 - val_accuracy: 0.9531 - val_auc: 0.9902\n",
      "Epoch 34/50\n",
      "51/51 [==============================] - ETA: 0s - loss: 0.0356 - accuracy: 0.9907 - auc: 0.9989\n",
      "Epoch 34: val_loss did not improve from 0.06360\n",
      "51/51 [==============================] - 13s 254ms/step - loss: 0.0356 - accuracy: 0.9907 - auc: 0.9989 - val_loss: 0.0770 - val_accuracy: 0.9740 - val_auc: 0.9966\n",
      "Epoch 35/50\n",
      "51/51 [==============================] - ETA: 0s - loss: 0.0337 - accuracy: 0.9926 - auc: 0.9988\n",
      "Epoch 35: val_loss did not improve from 0.06360\n",
      "51/51 [==============================] - 13s 262ms/step - loss: 0.0337 - accuracy: 0.9926 - auc: 0.9988 - val_loss: 0.0781 - val_accuracy: 0.9896 - val_auc: 0.9937\n",
      "Epoch 36/50\n",
      "51/51 [==============================] - ETA: 0s - loss: 0.0371 - accuracy: 0.9901 - auc: 0.9992\n",
      "Epoch 36: val_loss did not improve from 0.06360\n",
      "51/51 [==============================] - 13s 255ms/step - loss: 0.0371 - accuracy: 0.9901 - auc: 0.9992 - val_loss: 0.1092 - val_accuracy: 0.9740 - val_auc: 0.9965\n",
      "Epoch 37/50\n",
      "51/51 [==============================] - ETA: 0s - loss: 0.0405 - accuracy: 0.9901 - auc: 0.9992\n",
      "Epoch 37: val_loss did not improve from 0.06360\n",
      "51/51 [==============================] - 13s 252ms/step - loss: 0.0405 - accuracy: 0.9901 - auc: 0.9992 - val_loss: 0.1534 - val_accuracy: 0.9531 - val_auc: 0.9932\n",
      "Epoch 38/50\n",
      "51/51 [==============================] - ETA: 0s - loss: 0.0283 - accuracy: 0.9907 - auc: 0.9996\n",
      "Epoch 38: val_loss did not improve from 0.06360\n",
      "51/51 [==============================] - 13s 251ms/step - loss: 0.0283 - accuracy: 0.9907 - auc: 0.9996 - val_loss: 0.1082 - val_accuracy: 0.9740 - val_auc: 0.9966\n",
      "Epoch 39/50\n",
      "51/51 [==============================] - ETA: 0s - loss: 0.0342 - accuracy: 0.9926 - auc: 0.9992\n",
      "Epoch 39: val_loss did not improve from 0.06360\n",
      "51/51 [==============================] - 13s 258ms/step - loss: 0.0342 - accuracy: 0.9926 - auc: 0.9992 - val_loss: 0.1076 - val_accuracy: 0.9792 - val_auc: 0.9936\n",
      "Epoch 40/50\n",
      "51/51 [==============================] - ETA: 0s - loss: 0.0195 - accuracy: 0.9944 - auc: 1.0000\n",
      "Epoch 40: val_loss did not improve from 0.06360\n",
      "51/51 [==============================] - 13s 256ms/step - loss: 0.0195 - accuracy: 0.9944 - auc: 1.0000 - val_loss: 0.1161 - val_accuracy: 0.9844 - val_auc: 0.9936\n",
      "Epoch 41/50\n",
      "51/51 [==============================] - ETA: 0s - loss: 0.0248 - accuracy: 0.9938 - auc: 0.9996\n",
      "Epoch 41: val_loss did not improve from 0.06360\n",
      "Restoring model weights from the end of the best epoch: 31.\n",
      "51/51 [==============================] - 13s 256ms/step - loss: 0.0248 - accuracy: 0.9938 - auc: 0.9996 - val_loss: 0.5459 - val_accuracy: 0.9427 - val_auc: 0.9751\n",
      "Epoch 41: early stopping\n"
     ]
    }
   ],
   "source": [
    "from tensorflow.keras.optimizers import RMSprop\n",
    "from tensorflow.keras.callbacks import ModelCheckpoint, EarlyStopping\n",
    "import tensorflow as tf\n",
    "checkpoint = ModelCheckpoint(\"sugarcane_MobileNetLarge.h5\",\n",
    "                             monitor='val_loss',\n",
    "                             mode='min',\n",
    "                             save_best_only=True,verbose=1)\n",
    "\n",
    "earlystop = EarlyStopping(monitor='val_loss',\n",
    "                          min_delta=0,\n",
    "                          patience=10,\n",
    "                          verbose=1,\n",
    "                          restore_best_weights=True)\n",
    "\n",
    "callbacks=[checkpoint,earlystop]\n",
    "\n",
    "model1.compile(loss='categorical_crossentropy',\n",
    "                   optimizer=RMSprop(learning_rate=0.0001),\n",
    "                   metrics=['accuracy', tf.keras.metrics.AUC()])\n",
    "\n",
    "epochs=50\n",
    "\n",
    "batch_size = 32\n",
    "\n",
    "history = model1.fit(train_generator,\n",
    "                         steps_per_epoch=num_train_samples//batch_size,\n",
    "                         epochs=epochs,\n",
    "                         callbacks=callbacks,\n",
    "                         validation_data=val_generator,\n",
    "                         validation_steps=num_val_samples//batch_size)"
   ]
  },
  {
   "cell_type": "code",
   "execution_count": 8,
   "id": "b78e9ef4-a516-4806-aee7-56589c0eba3f",
   "metadata": {},
   "outputs": [
    {
     "data": {
      "image/png": "[encoded data removed]",
      "text/plain": [
       "<Figure size 640x480 with 1 Axes>"
      ]
     },
     "metadata": {},
     "output_type": "display_data"
    },
    {
     "data": {
      "image/png": "[encoded data removed]",
      "text/plain": [
       "<Figure size 640x480 with 1 Axes>"
      ]
     },
     "metadata": {},
     "output_type": "display_data"
    }
   ],
   "source": [
    "import os\n",
    "from matplotlib import pyplot as plt\n",
    "# Plotting the accuracy\n",
    "plt.plot(history.history['accuracy'])\n",
    "plt.plot(history.history['val_accuracy'])\n",
    "plt.title('Model Accuracy')\n",
    "plt.ylabel('Accuracy')\n",
    "plt.xlabel('Epoch')\n",
    "plt.legend(['Train', 'Validation'], loc='upper left')\n",
    "\n",
    "# Saving the accuracy plot\n",
    "if not os.path.exists('graphs'):\n",
    "    os.makedirs('graphs')\n",
    "plt.savefig('graphs/Custom and mobilenet accuracy.png')\n",
    "\n",
    "# Plotting the loss\n",
    "plt.figure()\n",
    "plt.plot(history.history['loss'])\n",
    "plt.plot(history.history['val_loss'])\n",
    "plt.title('Model Loss')\n",
    "plt.ylabel('Loss')\n",
    "plt.xlabel('Epoch')\n",
    "plt.legend(['Train', 'Validation'], loc='upper left')\n",
    "\n",
    "# Saving the loss plot\n",
    "if not os.path.exists('graphs'):\n",
    "    os.makedirs('graphs')\n",
    "plt.savefig('graphs/Custom and mobilenet loss.png')"
   ]
  },
  {
   "cell_type": "code",
   "execution_count": 9,
   "id": "1a686240-ace3-4a4a-a762-d3f27d631d70",
   "metadata": {},
   "outputs": [
    {
     "name": "stdout",
     "output_type": "stream",
     "text": [
      "7/7 [==============================] - 1s 107ms/step - loss: 0.0776 - accuracy: 0.9717 - auc: 0.9969\n"
     ]
    },
    {
     "data": {
      "text/plain": [
       "[0.07756303250789642, 0.9716981053352356, 0.9968960881233215]"
      ]
     },
     "execution_count": 9,
     "metadata": {},
     "output_type": "execute_result"
    }
   ],
   "source": [
    "model1.evaluate(test_generator)"
   ]
  },
  {
   "cell_type": "code",
   "execution_count": 17,
   "id": "e0c471e8-8825-4d32-8f60-a0222695cd29",
   "metadata": {},
   "outputs": [],
   "source": [
    "import numpy as np\n",
    "from tensorflow.keras.preprocessing.image import load_img, img_to_array\n",
    "from sklearn.preprocessing import LabelBinarizer\n",
    "\n",
    "def predict_class(image_path, model, train_generator):\n",
    "    # Load the image\n",
    "    img = load_img(image_path, target_size=(224, 224))\n",
    "\n",
    "    # Convert the image to a numpy array\n",
    "    img_array = img_to_array(img)\n",
    "\n",
    "    # Expand the dimensions of the numpy array\n",
    "    img_array = np.expand_dims(img_array, axis=0)\n",
    "\n",
    "    # Predict the class of the image\n",
    "    class_prediction = model.predict(img_array)\n",
    "\n",
    "    # Get the predicted class index\n",
    "    class_index = np.argmax(class_prediction)\n",
    "\n",
    "    # Get the class indices and names\n",
    "    class_indices = train_generator.class_indices\n",
    "    class_names = dict((v, k) for k, v in class_indices.items())\n",
    "\n",
    "    # Get the predicted class name\n",
    "    class_name = class_names[class_index]\n",
    "\n",
    "    # Return the predicted class name\n",
    "    return class_name\n"
   ]
  },
  {
   "cell_type": "code",
   "execution_count": 42,
   "id": "b22a6742-ef2d-43b8-b2fc-7481436c8554",
   "metadata": {},
   "outputs": [
    {
     "name": "stdin",
     "output_type": "stream",
     "text": [
      " \"C:\\Users\\rushi\\Downloads\\test2.jpg\"\n"
     ]
    },
    {
     "name": "stdout",
     "output_type": "stream",
     "text": [
      "1/1 [==============================] - 0s 18ms/step\n",
      "Rust\n"
     ]
    }
   ],
   "source": [
    "user_input = input()\n",
    "path = user_input[1:-1]\n",
    "class_index = predict_class(path, model1, train_generator)\n",
    "print(class_index)\n"
   ]
  },
  {
   "cell_type": "code",
   "execution_count": 43,
   "id": "3eeb7da8-0f04-4881-9160-27041f789eb2",
   "metadata": {},
   "outputs": [
    {
     "data": {
      "text/plain": [
       "{'Early Shoot Borer': 0,\n",
       " 'Healthy': 1,\n",
       " 'Mosaic': 2,\n",
       " 'RedRot': 3,\n",
       " 'Rust': 4,\n",
       " 'Wolly Aphid': 5}"
      ]
     },
     "execution_count": 43,
     "metadata": {},
     "output_type": "execute_result"
    }
   ],
   "source": [
    "train_generator.class_indices"
   ]
  },
  {
   "cell_type": "code",
   "execution_count": null,
   "id": "277ad2d2-1376-480a-a9e4-0fd67ba71f08",
   "metadata": {},
   "outputs": [],
   "source": []
  }
 ],
 "metadata": {
  "kernelspec": {
   "display_name": "Python 3 (ipykernel)",
   "language": "python",
   "name": "python3"
  },
  "language_info": {
   "codemirror_mode": {
    "name": "ipython",
    "version": 3
   },
   "file_extension": ".py",
   "mimetype": "text/x-python",
   "name": "python",
   "nbconvert_exporter": "python",
   "pygments_lexer": "ipython3",
   "version": "3.9.18"
  }
 },
 "nbformat": 4,
 "nbformat_minor": 5
}
